{
 "cells": [
  {
   "cell_type": "markdown",
   "id": "0e60de24",
   "metadata": {},
   "source": [
    "# ManoMano Web Scraping Project\n",
    "### The goal of this project is to scrape the data (of barbecue) that I want to buy from the ManoMano web site. \n",
    "### Also I would like Python to notify me (send e-mail) when the price of barbecue (98€) drops to a certain value (70€) so that I can pay less for it. :-)"
   ]
  },
  {
   "cell_type": "code",
   "execution_count": 1,
   "id": "9c0cacb4",
   "metadata": {},
   "outputs": [],
   "source": [
    "# Import libraries\n",
    "\n",
    "from bs4 import BeautifulSoup\n",
    "import requests\n",
    "import time\n",
    "import datetime\n",
    "import csv\n",
    "import pandas as pd\n",
    "import smtplib"
   ]
  },
  {
   "cell_type": "markdown",
   "id": "541acd95",
   "metadata": {},
   "source": [
    " "
   ]
  },
  {
   "cell_type": "code",
   "execution_count": 2,
   "id": "682cbe2b",
   "metadata": {},
   "outputs": [
    {
     "name": "stdout",
     "output_type": "stream",
     "text": [
      "Grill GEORGE FOREMAN 22460-56 - Noir\n",
      "98€64\n"
     ]
    }
   ],
   "source": [
    "# Connect to Website and pull in data\n",
    "\n",
    "item_url = 'https://www.manomano.fr/p/george-foreman-22460-56-george-foreman-barbecue-grille-interieur-exterieur-noir-2000-w-4199630'\n",
    "\n",
    "item_page = requests.get(item_url)\n",
    "\n",
    "soup = BeautifulSoup(item_page.content, 'html.parser')\n",
    "\n",
    "item_title = soup.find('h1').get_text()\n",
    "\n",
    "all_item_prices = soup.find_all(text='€')\n",
    "first_item_price = all_item_prices[0].parent.parent\n",
    "item_price = first_item_price.text\n",
    "\n",
    "print(item_title)\n",
    "print(item_price)"
   ]
  },
  {
   "cell_type": "markdown",
   "id": "3105db06",
   "metadata": {},
   "source": [
    " "
   ]
  },
  {
   "cell_type": "code",
   "execution_count": 3,
   "id": "3eb3f42e",
   "metadata": {},
   "outputs": [
    {
     "data": {
      "text/plain": [
       "'98.64'"
      ]
     },
     "execution_count": 3,
     "metadata": {},
     "output_type": "execute_result"
    }
   ],
   "source": [
    "# Clean up the data a little bit\n",
    "\n",
    "item_price = item_price.replace('€', '.')\n",
    "item_price"
   ]
  },
  {
   "cell_type": "markdown",
   "id": "a2683ab0",
   "metadata": {},
   "source": [
    " "
   ]
  },
  {
   "cell_type": "code",
   "execution_count": 4,
   "id": "a849eb99",
   "metadata": {},
   "outputs": [
    {
     "name": "stdout",
     "output_type": "stream",
     "text": [
      "2022-03-24\n"
     ]
    }
   ],
   "source": [
    "# Create a timestamp for my output to track when data was collected\n",
    "\n",
    "today = datetime.date.today()\n",
    "print(today)"
   ]
  },
  {
   "cell_type": "markdown",
   "id": "7a7b713d",
   "metadata": {},
   "source": [
    " "
   ]
  },
  {
   "cell_type": "code",
   "execution_count": 5,
   "id": "1a43c91c",
   "metadata": {},
   "outputs": [],
   "source": [
    "# Create csv file (write headers and data into the file)\n",
    "\n",
    "header = ['Title', 'Price', 'Date']\n",
    "data = [item_title, item_price, today]\n",
    "\n",
    "with open('ManoManoWebScraperDataset.csv', 'w', newline='', encoding='UTF8') as f:\n",
    "    writer = csv.writer(f)\n",
    "    writer.writerow(header)\n",
    "    writer.writerow(data)"
   ]
  },
  {
   "cell_type": "markdown",
   "id": "e6dc0241",
   "metadata": {},
   "source": [
    " "
   ]
  },
  {
   "cell_type": "code",
   "execution_count": 6,
   "id": "00b66896",
   "metadata": {},
   "outputs": [
    {
     "data": {
      "text/html": [
       "<div>\n",
       "<style scoped>\n",
       "    .dataframe tbody tr th:only-of-type {\n",
       "        vertical-align: middle;\n",
       "    }\n",
       "\n",
       "    .dataframe tbody tr th {\n",
       "        vertical-align: top;\n",
       "    }\n",
       "\n",
       "    .dataframe thead th {\n",
       "        text-align: right;\n",
       "    }\n",
       "</style>\n",
       "<table border=\"1\" class=\"dataframe\">\n",
       "  <thead>\n",
       "    <tr style=\"text-align: right;\">\n",
       "      <th></th>\n",
       "      <th>Title</th>\n",
       "      <th>Price</th>\n",
       "      <th>Date</th>\n",
       "    </tr>\n",
       "  </thead>\n",
       "  <tbody>\n",
       "    <tr>\n",
       "      <th>0</th>\n",
       "      <td>Grill GEORGE FOREMAN 22460-56 - Noir</td>\n",
       "      <td>98.64</td>\n",
       "      <td>2022-03-24</td>\n",
       "    </tr>\n",
       "  </tbody>\n",
       "</table>\n",
       "</div>"
      ],
      "text/plain": [
       "                                  Title  Price        Date\n",
       "0  Grill GEORGE FOREMAN 22460-56 - Noir  98.64  2022-03-24"
      ]
     },
     "execution_count": 6,
     "metadata": {},
     "output_type": "execute_result"
    }
   ],
   "source": [
    "#  Create dataframe \n",
    "\n",
    "df = pd.read_csv(r'C:\\Users\\djuki\\ManoManoWebScraperDataset.csv')\n",
    "df"
   ]
  },
  {
   "cell_type": "markdown",
   "id": "411d9277",
   "metadata": {},
   "source": [
    " "
   ]
  },
  {
   "cell_type": "code",
   "execution_count": 7,
   "id": "6f7ace70",
   "metadata": {},
   "outputs": [],
   "source": [
    "# Append data to the csv file\n",
    "\n",
    "with open('ManoManoWebScraperDataset.csv', 'a+', newline='', encoding='UTF8') as f:\n",
    "    writer = csv.writer(f)\n",
    "    writer.writerow(data)  "
   ]
  },
  {
   "cell_type": "markdown",
   "id": "3b295af1",
   "metadata": {},
   "source": [
    " "
   ]
  },
  {
   "cell_type": "code",
   "execution_count": 8,
   "id": "2bae64c1",
   "metadata": {},
   "outputs": [],
   "source": [
    "# I want to try sending myself an email (just for fun) when a price hits below 70€\n",
    "\n",
    "def send_mail():\n",
    "    server = smtplib.SMTP_SSL('smtp.gmail.com',465)\n",
    "    server.ehlo()\n",
    "    #server.starttls()\n",
    "    server.ehlo()\n",
    "    server.login('djukic.vladimir@gmail.com','xxxxxxxx')\n",
    "    \n",
    "    subject = \"The barbecue you want is below 70€!\"\n",
    "    body = \"Hi Vladimir, This is the moment you have been waiting for. Now is your chance to pick up the barbecue of your dreams. Don't mess it up! Link here:https://www.manomano.fr/p/george-foreman-22460-56-george-foreman-barbecue-grille-interieur-exterieur-noir-2000-w-4199630\" \n",
    "    msg = f\"Subject: {subject}\\n\\n{body}\"\n",
    "\n",
    "    sender = \"djukic.vladimir@gmail.com\"\n",
    "    receiver = \"djukic.vladimir@gmail.com\"\n",
    "    server.sendmail(sender, receiver, msg.encode('utf-8'))\n",
    "    "
   ]
  },
  {
   "cell_type": "markdown",
   "id": "7ff26a26",
   "metadata": {},
   "source": [
    " "
   ]
  },
  {
   "cell_type": "code",
   "execution_count": 9,
   "id": "81a6b993",
   "metadata": {},
   "outputs": [],
   "source": [
    "# Check the price (is below 70€) and send email\n",
    "\n",
    "def check_price(item_url):\n",
    "\n",
    "    item_page = requests.get(item_url)\n",
    "\n",
    "    soup = BeautifulSoup(item_page.content, 'html.parser')\n",
    "\n",
    "    item_title = soup.find('h1').get_text()\n",
    "\n",
    "    all_item_prices = soup.find_all(text='€')\n",
    "    first_item_price = all_item_prices[0].parent.parent\n",
    "    item_price = first_item_price.text\n",
    "    item_price = item_price.replace('€', '.')\n",
    "    item_price\n",
    "    \n",
    "    today = datetime.date.today()\n",
    "    \n",
    "    header = ['Title', 'Price', 'Date']\n",
    "    data = [item_title, item_price, today]\n",
    "    \n",
    "    with open('ManoManoWebScraperDataset.csv', 'a+', newline='', encoding='UTF8') as f:\n",
    "        writer = csv.writer(f)\n",
    "        writer.writerow(data)\n",
    "        \n",
    "    print(item_price)\n",
    "    \n",
    "    if(float(item_price) < 70.00):\n",
    "        send_mail()"
   ]
  },
  {
   "cell_type": "markdown",
   "id": "b12e7c55",
   "metadata": {},
   "source": [
    " "
   ]
  },
  {
   "cell_type": "code",
   "execution_count": 10,
   "id": "1faa8f7a",
   "metadata": {},
   "outputs": [
    {
     "name": "stdout",
     "output_type": "stream",
     "text": [
      "98.64\n"
     ]
    }
   ],
   "source": [
    "# Check the item price\n",
    "\n",
    "item_url = 'https://www.manomano.fr/p/george-foreman-22460-56-george-foreman-barbecue-grille-interieur-exterieur-noir-2000-w-4199630'\n",
    "check_price(item_url)"
   ]
  },
  {
   "cell_type": "code",
   "execution_count": null,
   "id": "cbb8bccf",
   "metadata": {},
   "outputs": [
    {
     "name": "stdout",
     "output_type": "stream",
     "text": [
      "98.64\n"
     ]
    }
   ],
   "source": [
    "# Run check_price after a time set (1800 secondes = 30 min.) and input data into your CSV\n",
    "\n",
    "while(True):\n",
    "    item_url = 'https://www.manomano.fr/p/george-foreman-22460-56-george-foreman-barbecue-grille-interieur-exterieur-noir-2000-w-4199630'\n",
    "    check_price(item_url)\n",
    "    time.sleep(30*60)"
   ]
  },
  {
   "cell_type": "markdown",
   "id": "28dfae28",
   "metadata": {},
   "source": [
    " "
   ]
  },
  {
   "cell_type": "code",
   "execution_count": 12,
   "id": "995ac54f",
   "metadata": {},
   "outputs": [
    {
     "data": {
      "text/html": [
       "<div>\n",
       "<style scoped>\n",
       "    .dataframe tbody tr th:only-of-type {\n",
       "        vertical-align: middle;\n",
       "    }\n",
       "\n",
       "    .dataframe tbody tr th {\n",
       "        vertical-align: top;\n",
       "    }\n",
       "\n",
       "    .dataframe thead th {\n",
       "        text-align: right;\n",
       "    }\n",
       "</style>\n",
       "<table border=\"1\" class=\"dataframe\">\n",
       "  <thead>\n",
       "    <tr style=\"text-align: right;\">\n",
       "      <th></th>\n",
       "      <th>Title</th>\n",
       "      <th>Price</th>\n",
       "      <th>Date</th>\n",
       "    </tr>\n",
       "  </thead>\n",
       "  <tbody>\n",
       "    <tr>\n",
       "      <th>0</th>\n",
       "      <td>Grill GEORGE FOREMAN 22460-56 - Noir</td>\n",
       "      <td>98.64</td>\n",
       "      <td>2022-03-24</td>\n",
       "    </tr>\n",
       "    <tr>\n",
       "      <th>1</th>\n",
       "      <td>Grill GEORGE FOREMAN 22460-56 - Noir</td>\n",
       "      <td>98.64</td>\n",
       "      <td>2022-03-24</td>\n",
       "    </tr>\n",
       "    <tr>\n",
       "      <th>2</th>\n",
       "      <td>Grill GEORGE FOREMAN 22460-56 - Noir</td>\n",
       "      <td>98.64</td>\n",
       "      <td>2022-03-24</td>\n",
       "    </tr>\n",
       "    <tr>\n",
       "      <th>3</th>\n",
       "      <td>Grill GEORGE FOREMAN 22460-56 - Noir</td>\n",
       "      <td>98.64</td>\n",
       "      <td>2022-03-24</td>\n",
       "    </tr>\n",
       "    <tr>\n",
       "      <th>4</th>\n",
       "      <td>Grill GEORGE FOREMAN 22460-56 - Noir</td>\n",
       "      <td>98.64</td>\n",
       "      <td>2022-03-24</td>\n",
       "    </tr>\n",
       "    <tr>\n",
       "      <th>5</th>\n",
       "      <td>Grill GEORGE FOREMAN 22460-56 - Noir</td>\n",
       "      <td>98.64</td>\n",
       "      <td>2022-03-24</td>\n",
       "    </tr>\n",
       "    <tr>\n",
       "      <th>6</th>\n",
       "      <td>Grill GEORGE FOREMAN 22460-56 - Noir</td>\n",
       "      <td>98.64</td>\n",
       "      <td>2022-03-24</td>\n",
       "    </tr>\n",
       "  </tbody>\n",
       "</table>\n",
       "</div>"
      ],
      "text/plain": [
       "                                  Title  Price        Date\n",
       "0  Grill GEORGE FOREMAN 22460-56 - Noir  98.64  2022-03-24\n",
       "1  Grill GEORGE FOREMAN 22460-56 - Noir  98.64  2022-03-24\n",
       "2  Grill GEORGE FOREMAN 22460-56 - Noir  98.64  2022-03-24\n",
       "3  Grill GEORGE FOREMAN 22460-56 - Noir  98.64  2022-03-24\n",
       "4  Grill GEORGE FOREMAN 22460-56 - Noir  98.64  2022-03-24\n",
       "5  Grill GEORGE FOREMAN 22460-56 - Noir  98.64  2022-03-24\n",
       "6  Grill GEORGE FOREMAN 22460-56 - Noir  98.64  2022-03-24"
      ]
     },
     "execution_count": 12,
     "metadata": {},
     "output_type": "execute_result"
    }
   ],
   "source": [
    "# Dataframe (CSV file)\n",
    "\n",
    "df = pd.read_csv(r'C:\\Users\\djuki\\ManoManoWebScraperDataset.csv')\n",
    "df"
   ]
  },
  {
   "cell_type": "markdown",
   "id": "103d8c77",
   "metadata": {},
   "source": [
    "### Finally, I didn't receive the e-mail because the barbecue price is still 98.64 euros. :-)"
   ]
  },
  {
   "cell_type": "markdown",
   "id": "92a1f2dc",
   "metadata": {},
   "source": [
    " "
   ]
  }
 ],
 "metadata": {
  "kernelspec": {
   "display_name": "Python 3",
   "language": "python",
   "name": "python3"
  }
 },
 "nbformat": 4,
 "nbformat_minor": 5
}
